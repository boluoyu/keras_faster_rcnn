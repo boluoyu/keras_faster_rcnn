{
 "cells": [
  {
   "cell_type": "code",
   "execution_count": 1,
   "metadata": {
    "collapsed": true
   },
   "outputs": [],
   "source": [
    "from tensorflow.contrib import layers\n",
    "from tensorflow.contrib.framework.python.ops import arg_scope\n",
    "from tensorflow.contrib.layers.python.layers import layers as layers_lib\n",
    "from tensorflow.contrib.layers.python.layers import regularizers\n",
    "from tensorflow.contrib.layers.python.layers import utils\n",
    "from tensorflow.python.ops import array_ops\n",
    "from tensorflow.python.ops import init_ops\n",
    "from tensorflow.python.ops import nn_ops\n",
    "from tensorflow.python.ops import variable_scope\n",
    "import tensorflow.contrib.slim as slim\n",
    "import tensorflow as tf\n",
    "import os\n",
    "\n",
    "from scipy.misc import imresize\n",
    "\n",
    "from math import floor,exp\n",
    "import pprint\n",
    "\n",
    "import matplotlib.image as mpimg\n",
    "import numpy as np\n",
    "import matplotlib.pylab as plt"
   ]
  },
  {
   "cell_type": "code",
   "execution_count": 2,
   "metadata": {
    "collapsed": false
   },
   "outputs": [],
   "source": [
    "\n",
    "anchor_box_scales = [128, 256, 512]\n",
    "anchor_box_ratio = [[1,1],[1,2],[2,1]]\n",
    "\n",
    "\n",
    "TEST_FULL_IMG = np.array([mpimg.imread(\"./test1.jpg\")])"
   ]
  },
  {
   "cell_type": "code",
   "execution_count": 3,
   "metadata": {
    "collapsed": false
   },
   "outputs": [
    {
     "name": "stdout",
     "output_type": "stream",
     "text": [
      "(1, 720, 1280, 3)\n",
      "180.0 320.0\n"
     ]
    }
   ],
   "source": [
    "print(TEST_FULL_IMG.shape)\n",
    "print(TEST_FULL_IMG.shape[1]/4, TEST_FULL_IMG.shape[2]/4)"
   ]
  },
  {
   "cell_type": "code",
   "execution_count": 15,
   "metadata": {
    "collapsed": false
   },
   "outputs": [],
   "source": [
    "def vgg_16(inputs,  scope='vgg_16'):\n",
    "    with tf.variable_scope(scope, 'vgg_16', [inputs]) as sc:\n",
    "        end_points_collection = sc.name + '_end_points'\n",
    "\n",
    "        # Collect outputs for conv2d, fully_connected and max_pool2d.\n",
    "        with slim.arg_scope([slim.conv2d, slim.fully_connected, slim.max_pool2d], outputs_collections=end_points_collection):\n",
    "            net = slim.repeat(inputs, 2, slim.conv2d, 64, [3, 3], scope='conv1')\n",
    "            net = slim.max_pool2d(net, [2, 2], scope='pool1')\n",
    "            net = slim.repeat(net, 2, slim.conv2d, 128, [3, 3], scope='conv2')\n",
    "            net = slim.max_pool2d(net, [2, 2], scope='pool2')\n",
    "            net = slim.repeat(net, 3, slim.conv2d, 256, [3, 3], scope='conv3')\n",
    "#             net = slim.max_pool2d(net, [2, 2], scope='pool3')\n",
    "            net = slim.repeat(net, 3, slim.conv2d, 512, [3, 3], scope='conv4')\n",
    "#             net = slim.max_pool2d(net, [2, 2], scope='pool4')\n",
    "            net = slim.repeat(net, 3, slim.conv2d, 512, [3, 3], scope='conv5')\n",
    "\n",
    "            # Convert end_points_collection into a end_point dict.\n",
    "            end_points = slim.utils.convert_collection_to_dict(end_points_collection)\n",
    "        \n",
    "    return net, end_points\n",
    "\n",
    "\n",
    "def rpn(net, num_anchors=9, scope=\"rpn\"):\n",
    "    with tf.variable_scope(scope, 'rpn', [net]) as sc:\n",
    "        end_points_collection = sc.name + '_end_points'\n",
    "        \n",
    "        with slim.arg_scope([slim.conv2d, slim.fully_connected, slim.max_pool2d], \n",
    "                            outputs_collections=end_points_collection, \n",
    "                            activation_fn=tf.nn.relu,\n",
    "                            weights_initializer=tf.truncated_normal_initializer(0.0, 0.01)):\n",
    "            \n",
    "            net = slim.conv2d(net, 512, [3, 1], scope='rpn_conv_3x3', padding='SAME')\n",
    "            \n",
    "            rpn_class = slim.conv2d(net, num_anchors, [1, 1], scope='rpn_class')\n",
    "            \n",
    "            rpn_regr = slim.conv2d(net, num_anchors*4, [1, 1], scope='rpn_regr')   \n",
    "\n",
    "            # Convert end_points_collection into a end_point dict.\n",
    "            end_points = slim.utils.convert_collection_to_dict(end_points_collection)\n",
    "        \n",
    "    return rpn_class, rpn_regr, end_points\n",
    "\n",
    "def mapAnchorToBoxs(rpn_class, rpn_regr, feature_map_ratio, ratio=[(1,1),(2,1),(1,2)], pixel=[64,128,512]):\n",
    "    \n",
    "    class_res  = [];\n",
    "    regr_res = [];\n",
    "    \n",
    "    \n",
    "    for row in range(rpn_class.shape[0]):\n",
    "        for col in range(rpn_class.shape[1]):\n",
    "            i = 0\n",
    "            for r in ratio:\n",
    "                j = 0\n",
    "                for p in pixel:\n",
    "                    anchor_width = r[0]*p / feature_map_ratio\n",
    "                    anchor_height = r[1]*p / feature_map_ratio\n",
    "                    \n",
    "                    p_anchor = rpn_regr[row][col][i+j]\n",
    "                    \n",
    "                    cx = row + p_anchor[0]*anchor_width\n",
    "                    cy = col + p_anchor[1]*anchor_height\n",
    "                    pred_w = exp(p_anchor[2]) * anchor_width\n",
    "                    pred_h = exp(p_anchor[3]) * anchor_height\n",
    "                    \n",
    "                    x1 = int(cx - 0.5 * pred_w)\n",
    "                    y1 = int(cy - 0.5 * pred_h)\n",
    "                    x2 = int(cx + 0.5 * pred_w)\n",
    "                    y2 = int(cy + 0.5 * pred_h)\n",
    "                    \n",
    "                    regr_res.append([x1,y1,x2,y2])\n",
    "                    class_res.append(rpn_class[row][col][i+j])\n",
    "#                     print(\"rpn_class[row][col][i+j]\",rpn_class[row][col][i+j])\n",
    "                    \n",
    "                    \n",
    "                    j+=1\n",
    "                i+=1\n",
    "    \n",
    "    return np.array(class_res), np.array(regr_res)\n",
    "\n",
    "def getLargest(a,b):\n",
    "    if (a>b):\n",
    "        return a\n",
    "    else :\n",
    "        return b\n",
    "\n",
    "def getSmallest(a,b):\n",
    "    if(a<b):\n",
    "        return a\n",
    "    else:\n",
    "        return b\n",
    "    \n",
    "    \n",
    "def clip_boxes(boxes, im_shape_col, im_shape_row):\n",
    "    \"\"\"\n",
    "    Clip boxes to image boundaries.\n",
    "    \"\"\"\n",
    "    for box in boxes:\n",
    "        box[0] = getLargest( getSmallest(box[0], im_shape_col) ,0)\n",
    "        box[1] = getLargest( getSmallest(box[1], im_shape_row) ,0)\n",
    "        box[2] = getLargest( getSmallest(box[2], im_shape_col) ,0)\n",
    "        box[3] = getLargest( getSmallest(box[3], im_shape_row) ,0)\n",
    "            \n",
    "    return boxes\n",
    "\n",
    "def filter_boxs_by_size(boxes, threshold=30):\n",
    "    \n",
    "    ws = boxes[:, 2] - boxes[:, 0] + 1\n",
    "    hs = boxes[:, 3] - boxes[:, 1] + 1\n",
    "    keep = np.where((ws >= threshold) & (hs >= threshold))[0]\n",
    "    return keep\n",
    "\n",
    "def nms(dets, thresh):\n",
    "    \"\"\"Pure Python NMS baseline.\"\"\"\n",
    "    x1 = dets[:, 0]\n",
    "    y1 = dets[:, 1]\n",
    "    x2 = dets[:, 2]\n",
    "    y2 = dets[:, 3]\n",
    "    scores = dets[:, 4]\n",
    "\n",
    "    areas = (x2 - x1 + 1) * (y2 - y1 + 1)\n",
    "    order = scores.argsort()[::-1]\n",
    "\n",
    "    keep = []\n",
    "    while order.size > 0:\n",
    "        i = order[0]\n",
    "        keep.append(i)\n",
    "        xx1 = np.maximum(x1[i], x1[order[1:]])\n",
    "        yy1 = np.maximum(y1[i], y1[order[1:]])\n",
    "        xx2 = np.minimum(x2[i], x2[order[1:]])\n",
    "        yy2 = np.minimum(y2[i], y2[order[1:]])\n",
    "\n",
    "        w = np.maximum(0.0, xx2 - xx1 + 1)\n",
    "        h = np.maximum(0.0, yy2 - yy1 + 1)\n",
    "        inter = w * h\n",
    "        ovr = inter / (areas[i] + areas[order[1:]] - inter)\n",
    "\n",
    "        inds = np.where(ovr <= thresh)[0]\n",
    "        order = order[inds + 1]\n",
    "\n",
    "    return keep\n",
    "\n",
    "def rpn_proposal_layer(rpn_class, rpn_regr, img_input):\n",
    "    ''' \n",
    "    This function map anchor to the position, which return x,y,w,h with globel coor. \n",
    "    rather than anchor inner position.\n",
    "    img_input is use for get the imgSize ref.\n",
    "    '''\n",
    "    \n",
    "    print(\"rpn_class.shape\", rpn_class.shape)\n",
    "    print(\"rpn_regr.shape\", rpn_regr.shape)\n",
    "    print(\"img_input.shape\", img_input.shape)\n",
    "    \n",
    "    img_width = img_input.shape[2]\n",
    "    img_height = img_input.shape[1]\n",
    "    \n",
    "    feature_map_width = rpn_regr.shape[2]\n",
    "    feature_map_height = rpn_regr.shape[1]\n",
    "    \n",
    "    img_to_feature_map_ratio = img_width/feature_map_width\n",
    "    \n",
    "    nb_anchors = int(rpn_class.shape[3])\n",
    "    \n",
    "#     reshape the array by anchors \n",
    "    rpn_class_reshaped = np.reshape(rpn_class, (int(rpn_class.shape[1]), int(rpn_class.shape[2]),nb_anchors, 1))\n",
    "    rpn_regr_reshaped = np.reshape(rpn_regr, (int(rpn_regr.shape[1]), int(rpn_regr.shape[2]),nb_anchors, 4)) \n",
    "    \n",
    "    class_res, regr_res = mapAnchorToBoxs(rpn_class_reshaped, rpn_regr_reshaped, img_to_feature_map_ratio)\n",
    "    \n",
    "    # 2. clip predicted boxes to image\n",
    "    regr_res = clip_boxes(regr_res, int(rpn_class.shape[2]), int(rpn_class.shape[1]))\n",
    "    print(\"class_res.shape\",class_res.shape)\n",
    "    print(\"regr_res.shape\",regr_res.shape)\n",
    "    \n",
    "    # filter by size\n",
    "    id_keep = filter_boxs_by_size(regr_res, 30)\n",
    "    print(\"id_keep.shape\",id_keep.shape)\n",
    "    class_res_keep = class_res[id_keep]\n",
    "    regr_res_keep = regr_res[id_keep, :]\n",
    "    \n",
    "    # sort \n",
    "    # getTop N \n",
    "    pre_nms_topN = 6000\n",
    "    \n",
    "    order = class_res_keep.ravel().argsort()[::-1]\n",
    "    if pre_nms_topN > 0:\n",
    "        order = order[:pre_nms_topN]\n",
    "    proposals = regr_res_keep[order, :]\n",
    "    scores = class_res_keep[order]\n",
    "    \n",
    "    print(\"proposals.shape\",proposals.shape)    \n",
    "    print(\"scores.shape\",scores.shape)\n",
    "    \n",
    "    # 6. apply nms (e.g. threshold = 0.7)\n",
    "    # 7. take after_nms_topN (e.g. 300)\n",
    "    # 8. return the top proposals (-> RoIs top)\n",
    "    post_nms_topN = 300\n",
    "    nms_thresh = 0.6\n",
    "    keep = nms(np.hstack((proposals, scores)), nms_thresh)\n",
    "    if post_nms_topN > 0:\n",
    "        keep = keep[:post_nms_topN]\n",
    "    proposals = proposals[keep, :]\n",
    "    scores = scores[keep]\n",
    "    print(\"proposals.shape\",proposals.shape)    \n",
    "    print(\"scores.shape\",scores.shape)\n",
    "    \n",
    "    return proposals.astype(np.float32) #.astype(np.int32) # proposals.astype(np.float32), scores.astype(np.float32)\n"
   ]
  },
  {
   "cell_type": "code",
   "execution_count": 20,
   "metadata": {
    "collapsed": false
   },
   "outputs": [],
   "source": [
    "\n",
    "# def roi_pooling_layer(feature_map, rois, img_input):\n",
    "#     '''\n",
    "#         rois in x1,y1,x2,y2 fromat in actual image coord.\n",
    "#     '''\n",
    "#     print(\"feature_map.shape\", feature_map.shape)\n",
    "#     print(\"img_input.shape\", img_input.shape)\n",
    "#     print(\"rois.shape\",rois.shape)\n",
    "    \n",
    "# # feature_map.shape (1, 180, 320, 512)\n",
    "# # img_input.shape (1, 720, 1280, 3)\n",
    "    \n",
    "#     ratio = img_input.shape[1]/feature_map.shape[1]\n",
    "    \n",
    "#     result = []\n",
    "#     for roi in rois[0]:\n",
    "#         coord = (roi / ratio).astype(np.int)\n",
    "#         print(coord)\n",
    "#         img = tf.image.resize_images(feature_map[0][coord[0]:coord[2], coord[1]:coord[3], :], (7, 7))\n",
    "#         result.append(img)\n",
    "    \n",
    "#     print(result)\n",
    "#     result = np.array(result)\n",
    "    \n",
    "#     print(\"result.shape\",result.shape)\n",
    "    \n",
    "# #     for roi in rois[0]:\n",
    "# #         print(roi)\n",
    "#     return result.astype(np.float32) # np.array(np.zeros((5,7,7,512)).astype(np.float32))\n",
    "\n",
    "def getBoxIds(poposal_res):\n",
    "    print(\"poposal_res.shape\",poposal_res.shape)\n",
    "    return np.zeros(len(poposal_res)).astype(np.int32)"
   ]
  },
  {
   "cell_type": "code",
   "execution_count": 21,
   "metadata": {
    "collapsed": false
   },
   "outputs": [
    {
     "name": "stdout",
     "output_type": "stream",
     "text": [
      "restore conv layers\n",
      "rpn_class.shape (1, 180, 320, 9)\n",
      "rpn_regr.shape (1, 180, 320, 36)\n",
      "img_input.shape (1, 720, 1280, 3)\n",
      "class_res.shape (518400, 1)\n",
      "regr_res.shape (518400, 4)\n",
      "id_keep.shape (212176,)\n",
      "proposals.shape (6000, 4)\n",
      "scores.shape (6000, 1)\n",
      "proposals.shape (38, 4)\n",
      "scores.shape (38, 1)\n",
      "poposal_res.shape (38, 4)\n"
     ]
    },
    {
     "ename": "OutOfRangeError",
     "evalue": "box_ind has values outside [0, batch)\n\t [[Node: CropAndResize_7 = CropAndResize[T=DT_FLOAT, extrapolation_value=0, method=\"bilinear\", _device=\"/job:localhost/replica:0/task:0/gpu:0\"](vgg_16_7/conv5/conv5_3/Relu, roi_proposal_7/_59, PyFunc_7/_61, Const_7)]]\n\t [[Node: CropAndResize_7/_63 = _Recv[client_terminated=false, recv_device=\"/job:localhost/replica:0/task:0/cpu:0\", send_device=\"/job:localhost/replica:0/task:0/gpu:0\", send_device_incarnation=1, tensor_name=\"edge_153_CropAndResize_7\", tensor_type=DT_FLOAT, _device=\"/job:localhost/replica:0/task:0/cpu:0\"]()]]\n\nCaused by op 'CropAndResize_7', defined at:\n  File \"/home/holman/anaconda2/envs/carND/lib/python3.6/runpy.py\", line 193, in _run_module_as_main\n    \"__main__\", mod_spec)\n  File \"/home/holman/anaconda2/envs/carND/lib/python3.6/runpy.py\", line 85, in _run_code\n    exec(code, run_globals)\n  File \"/home/holman/anaconda2/envs/carND/lib/python3.6/site-packages/ipykernel/__main__.py\", line 3, in <module>\n    app.launch_new_instance()\n  File \"/home/holman/anaconda2/envs/carND/lib/python3.6/site-packages/traitlets/config/application.py\", line 658, in launch_instance\n    app.start()\n  File \"/home/holman/anaconda2/envs/carND/lib/python3.6/site-packages/ipykernel/kernelapp.py\", line 474, in start\n    ioloop.IOLoop.instance().start()\n  File \"/home/holman/anaconda2/envs/carND/lib/python3.6/site-packages/zmq/eventloop/ioloop.py\", line 177, in start\n    super(ZMQIOLoop, self).start()\n  File \"/home/holman/anaconda2/envs/carND/lib/python3.6/site-packages/tornado/ioloop.py\", line 887, in start\n    handler_func(fd_obj, events)\n  File \"/home/holman/anaconda2/envs/carND/lib/python3.6/site-packages/tornado/stack_context.py\", line 275, in null_wrapper\n    return fn(*args, **kwargs)\n  File \"/home/holman/anaconda2/envs/carND/lib/python3.6/site-packages/zmq/eventloop/zmqstream.py\", line 440, in _handle_events\n    self._handle_recv()\n  File \"/home/holman/anaconda2/envs/carND/lib/python3.6/site-packages/zmq/eventloop/zmqstream.py\", line 472, in _handle_recv\n    self._run_callback(callback, msg)\n  File \"/home/holman/anaconda2/envs/carND/lib/python3.6/site-packages/zmq/eventloop/zmqstream.py\", line 414, in _run_callback\n    callback(*args, **kwargs)\n  File \"/home/holman/anaconda2/envs/carND/lib/python3.6/site-packages/tornado/stack_context.py\", line 275, in null_wrapper\n    return fn(*args, **kwargs)\n  File \"/home/holman/anaconda2/envs/carND/lib/python3.6/site-packages/ipykernel/kernelbase.py\", line 276, in dispatcher\n    return self.dispatch_shell(stream, msg)\n  File \"/home/holman/anaconda2/envs/carND/lib/python3.6/site-packages/ipykernel/kernelbase.py\", line 228, in dispatch_shell\n    handler(stream, idents, msg)\n  File \"/home/holman/anaconda2/envs/carND/lib/python3.6/site-packages/ipykernel/kernelbase.py\", line 390, in execute_request\n    user_expressions, allow_stdin)\n  File \"/home/holman/anaconda2/envs/carND/lib/python3.6/site-packages/ipykernel/ipkernel.py\", line 196, in do_execute\n    res = shell.run_cell(code, store_history=store_history, silent=silent)\n  File \"/home/holman/anaconda2/envs/carND/lib/python3.6/site-packages/ipykernel/zmqshell.py\", line 501, in run_cell\n    return super(ZMQInteractiveShell, self).run_cell(*args, **kwargs)\n  File \"/home/holman/anaconda2/envs/carND/lib/python3.6/site-packages/IPython/core/interactiveshell.py\", line 2717, in run_cell\n    interactivity=interactivity, compiler=compiler, result=result)\n  File \"/home/holman/anaconda2/envs/carND/lib/python3.6/site-packages/IPython/core/interactiveshell.py\", line 2821, in run_ast_nodes\n    if self.run_code(code, result):\n  File \"/home/holman/anaconda2/envs/carND/lib/python3.6/site-packages/IPython/core/interactiveshell.py\", line 2881, in run_code\n    exec(code_obj, self.user_global_ns, self.user_ns)\n  File \"<ipython-input-21-317633c1726d>\", line 18, in <module>\n    roi_pooling = tf.image.crop_and_resize(conv_layer,roi_proposal, get_box_ids, crop_size)\n  File \"/home/holman/anaconda2/envs/carND/lib/python3.6/site-packages/tensorflow/python/ops/gen_image_ops.py\", line 178, in crop_and_resize\n    name=name)\n  File \"/home/holman/anaconda2/envs/carND/lib/python3.6/site-packages/tensorflow/python/framework/op_def_library.py\", line 763, in apply_op\n    op_def=op_def)\n  File \"/home/holman/anaconda2/envs/carND/lib/python3.6/site-packages/tensorflow/python/framework/ops.py\", line 2395, in create_op\n    original_op=self._default_original_op, op_def=op_def)\n  File \"/home/holman/anaconda2/envs/carND/lib/python3.6/site-packages/tensorflow/python/framework/ops.py\", line 1264, in __init__\n    self._traceback = _extract_stack()\n\nOutOfRangeError (see above for traceback): box_ind has values outside [0, batch)\n\t [[Node: CropAndResize_7 = CropAndResize[T=DT_FLOAT, extrapolation_value=0, method=\"bilinear\", _device=\"/job:localhost/replica:0/task:0/gpu:0\"](vgg_16_7/conv5/conv5_3/Relu, roi_proposal_7/_59, PyFunc_7/_61, Const_7)]]\n\t [[Node: CropAndResize_7/_63 = _Recv[client_terminated=false, recv_device=\"/job:localhost/replica:0/task:0/cpu:0\", send_device=\"/job:localhost/replica:0/task:0/gpu:0\", send_device_incarnation=1, tensor_name=\"edge_153_CropAndResize_7\", tensor_type=DT_FLOAT, _device=\"/job:localhost/replica:0/task:0/cpu:0\"]()]]\n",
     "output_type": "error",
     "traceback": [
      "\u001b[0;31m---------------------------------------------------------------------------\u001b[0m",
      "\u001b[0;31mOutOfRangeError\u001b[0m                           Traceback (most recent call last)",
      "\u001b[0;32m/home/holman/anaconda2/envs/carND/lib/python3.6/site-packages/tensorflow/python/client/session.py\u001b[0m in \u001b[0;36m_do_call\u001b[0;34m(self, fn, *args)\u001b[0m\n\u001b[1;32m   1021\u001b[0m     \u001b[0;32mtry\u001b[0m\u001b[0;34m:\u001b[0m\u001b[0;34m\u001b[0m\u001b[0m\n\u001b[0;32m-> 1022\u001b[0;31m       \u001b[0;32mreturn\u001b[0m \u001b[0mfn\u001b[0m\u001b[0;34m(\u001b[0m\u001b[0;34m*\u001b[0m\u001b[0margs\u001b[0m\u001b[0;34m)\u001b[0m\u001b[0;34m\u001b[0m\u001b[0m\n\u001b[0m\u001b[1;32m   1023\u001b[0m     \u001b[0;32mexcept\u001b[0m \u001b[0merrors\u001b[0m\u001b[0;34m.\u001b[0m\u001b[0mOpError\u001b[0m \u001b[0;32mas\u001b[0m \u001b[0me\u001b[0m\u001b[0;34m:\u001b[0m\u001b[0;34m\u001b[0m\u001b[0m\n",
      "\u001b[0;32m/home/holman/anaconda2/envs/carND/lib/python3.6/site-packages/tensorflow/python/client/session.py\u001b[0m in \u001b[0;36m_run_fn\u001b[0;34m(session, feed_dict, fetch_list, target_list, options, run_metadata)\u001b[0m\n\u001b[1;32m   1003\u001b[0m                                  \u001b[0mfeed_dict\u001b[0m\u001b[0;34m,\u001b[0m \u001b[0mfetch_list\u001b[0m\u001b[0;34m,\u001b[0m \u001b[0mtarget_list\u001b[0m\u001b[0;34m,\u001b[0m\u001b[0;34m\u001b[0m\u001b[0m\n\u001b[0;32m-> 1004\u001b[0;31m                                  status, run_metadata)\n\u001b[0m\u001b[1;32m   1005\u001b[0m \u001b[0;34m\u001b[0m\u001b[0m\n",
      "\u001b[0;32m/home/holman/anaconda2/envs/carND/lib/python3.6/contextlib.py\u001b[0m in \u001b[0;36m__exit__\u001b[0;34m(self, type, value, traceback)\u001b[0m\n\u001b[1;32m     88\u001b[0m             \u001b[0;32mtry\u001b[0m\u001b[0;34m:\u001b[0m\u001b[0;34m\u001b[0m\u001b[0m\n\u001b[0;32m---> 89\u001b[0;31m                 \u001b[0mnext\u001b[0m\u001b[0;34m(\u001b[0m\u001b[0mself\u001b[0m\u001b[0;34m.\u001b[0m\u001b[0mgen\u001b[0m\u001b[0;34m)\u001b[0m\u001b[0;34m\u001b[0m\u001b[0m\n\u001b[0m\u001b[1;32m     90\u001b[0m             \u001b[0;32mexcept\u001b[0m \u001b[0mStopIteration\u001b[0m\u001b[0;34m:\u001b[0m\u001b[0;34m\u001b[0m\u001b[0m\n",
      "\u001b[0;32m/home/holman/anaconda2/envs/carND/lib/python3.6/site-packages/tensorflow/python/framework/errors_impl.py\u001b[0m in \u001b[0;36mraise_exception_on_not_ok_status\u001b[0;34m()\u001b[0m\n\u001b[1;32m    468\u001b[0m           \u001b[0mcompat\u001b[0m\u001b[0;34m.\u001b[0m\u001b[0mas_text\u001b[0m\u001b[0;34m(\u001b[0m\u001b[0mpywrap_tensorflow\u001b[0m\u001b[0;34m.\u001b[0m\u001b[0mTF_Message\u001b[0m\u001b[0;34m(\u001b[0m\u001b[0mstatus\u001b[0m\u001b[0;34m)\u001b[0m\u001b[0;34m)\u001b[0m\u001b[0;34m,\u001b[0m\u001b[0;34m\u001b[0m\u001b[0m\n\u001b[0;32m--> 469\u001b[0;31m           pywrap_tensorflow.TF_GetCode(status))\n\u001b[0m\u001b[1;32m    470\u001b[0m   \u001b[0;32mfinally\u001b[0m\u001b[0;34m:\u001b[0m\u001b[0;34m\u001b[0m\u001b[0m\n",
      "\u001b[0;31mOutOfRangeError\u001b[0m: box_ind has values outside [0, batch)\n\t [[Node: CropAndResize_7 = CropAndResize[T=DT_FLOAT, extrapolation_value=0, method=\"bilinear\", _device=\"/job:localhost/replica:0/task:0/gpu:0\"](vgg_16_7/conv5/conv5_3/Relu, roi_proposal_7/_59, PyFunc_7/_61, Const_7)]]\n\t [[Node: CropAndResize_7/_63 = _Recv[client_terminated=false, recv_device=\"/job:localhost/replica:0/task:0/cpu:0\", send_device=\"/job:localhost/replica:0/task:0/gpu:0\", send_device_incarnation=1, tensor_name=\"edge_153_CropAndResize_7\", tensor_type=DT_FLOAT, _device=\"/job:localhost/replica:0/task:0/cpu:0\"]()]]",
      "\nDuring handling of the above exception, another exception occurred:\n",
      "\u001b[0;31mOutOfRangeError\u001b[0m                           Traceback (most recent call last)",
      "\u001b[0;32m<ipython-input-21-317633c1726d>\u001b[0m in \u001b[0;36m<module>\u001b[0;34m()\u001b[0m\n\u001b[1;32m     35\u001b[0m     \u001b[0mprint\u001b[0m\u001b[0;34m(\u001b[0m\u001b[0;34m\"restore conv layers\"\u001b[0m\u001b[0;34m)\u001b[0m\u001b[0;34m\u001b[0m\u001b[0m\n\u001b[1;32m     36\u001b[0m \u001b[0;34m\u001b[0m\u001b[0m\n\u001b[0;32m---> 37\u001b[0;31m     \u001b[0mres\u001b[0m\u001b[0;34m,\u001b[0m \u001b[0mrpn_class_res\u001b[0m\u001b[0;34m,\u001b[0m \u001b[0mrpn_regr_res\u001b[0m\u001b[0;34m,\u001b[0m \u001b[0mroi_proposal_res\u001b[0m\u001b[0;34m,\u001b[0m \u001b[0mroi_pooling_res\u001b[0m \u001b[0;34m=\u001b[0m \u001b[0msess\u001b[0m\u001b[0;34m.\u001b[0m\u001b[0mrun\u001b[0m\u001b[0;34m(\u001b[0m\u001b[0;34m[\u001b[0m\u001b[0mconv_layer\u001b[0m\u001b[0;34m,\u001b[0m \u001b[0mrpn_class\u001b[0m\u001b[0;34m,\u001b[0m \u001b[0mrpn_regr\u001b[0m\u001b[0;34m,\u001b[0m \u001b[0mroi_proposal\u001b[0m\u001b[0;34m,\u001b[0m \u001b[0mroi_pooling\u001b[0m\u001b[0;34m]\u001b[0m\u001b[0;34m,\u001b[0m \u001b[0mfeed_dict\u001b[0m\u001b[0;34m=\u001b[0m\u001b[0;34m{\u001b[0m\u001b[0mimg_input\u001b[0m\u001b[0;34m:\u001b[0m\u001b[0mTEST_FULL_IMG\u001b[0m\u001b[0;34m}\u001b[0m\u001b[0;34m)\u001b[0m\u001b[0;34m\u001b[0m\u001b[0m\n\u001b[0m\u001b[1;32m     38\u001b[0m \u001b[0;31m#     plt.imshow(res[0], cmap='gray')\u001b[0m\u001b[0;34m\u001b[0m\u001b[0;34m\u001b[0m\u001b[0m\n\u001b[1;32m     39\u001b[0m \u001b[0;34m\u001b[0m\u001b[0m\n",
      "\u001b[0;32m/home/holman/anaconda2/envs/carND/lib/python3.6/site-packages/tensorflow/python/client/session.py\u001b[0m in \u001b[0;36mrun\u001b[0;34m(self, fetches, feed_dict, options, run_metadata)\u001b[0m\n\u001b[1;32m    765\u001b[0m     \u001b[0;32mtry\u001b[0m\u001b[0;34m:\u001b[0m\u001b[0;34m\u001b[0m\u001b[0m\n\u001b[1;32m    766\u001b[0m       result = self._run(None, fetches, feed_dict, options_ptr,\n\u001b[0;32m--> 767\u001b[0;31m                          run_metadata_ptr)\n\u001b[0m\u001b[1;32m    768\u001b[0m       \u001b[0;32mif\u001b[0m \u001b[0mrun_metadata\u001b[0m\u001b[0;34m:\u001b[0m\u001b[0;34m\u001b[0m\u001b[0m\n\u001b[1;32m    769\u001b[0m         \u001b[0mproto_data\u001b[0m \u001b[0;34m=\u001b[0m \u001b[0mtf_session\u001b[0m\u001b[0;34m.\u001b[0m\u001b[0mTF_GetBuffer\u001b[0m\u001b[0;34m(\u001b[0m\u001b[0mrun_metadata_ptr\u001b[0m\u001b[0;34m)\u001b[0m\u001b[0;34m\u001b[0m\u001b[0m\n",
      "\u001b[0;32m/home/holman/anaconda2/envs/carND/lib/python3.6/site-packages/tensorflow/python/client/session.py\u001b[0m in \u001b[0;36m_run\u001b[0;34m(self, handle, fetches, feed_dict, options, run_metadata)\u001b[0m\n\u001b[1;32m    963\u001b[0m     \u001b[0;32mif\u001b[0m \u001b[0mfinal_fetches\u001b[0m \u001b[0;32mor\u001b[0m \u001b[0mfinal_targets\u001b[0m\u001b[0;34m:\u001b[0m\u001b[0;34m\u001b[0m\u001b[0m\n\u001b[1;32m    964\u001b[0m       results = self._do_run(handle, final_targets, final_fetches,\n\u001b[0;32m--> 965\u001b[0;31m                              feed_dict_string, options, run_metadata)\n\u001b[0m\u001b[1;32m    966\u001b[0m     \u001b[0;32melse\u001b[0m\u001b[0;34m:\u001b[0m\u001b[0;34m\u001b[0m\u001b[0m\n\u001b[1;32m    967\u001b[0m       \u001b[0mresults\u001b[0m \u001b[0;34m=\u001b[0m \u001b[0;34m[\u001b[0m\u001b[0;34m]\u001b[0m\u001b[0;34m\u001b[0m\u001b[0m\n",
      "\u001b[0;32m/home/holman/anaconda2/envs/carND/lib/python3.6/site-packages/tensorflow/python/client/session.py\u001b[0m in \u001b[0;36m_do_run\u001b[0;34m(self, handle, target_list, fetch_list, feed_dict, options, run_metadata)\u001b[0m\n\u001b[1;32m   1013\u001b[0m     \u001b[0;32mif\u001b[0m \u001b[0mhandle\u001b[0m \u001b[0;32mis\u001b[0m \u001b[0;32mNone\u001b[0m\u001b[0;34m:\u001b[0m\u001b[0;34m\u001b[0m\u001b[0m\n\u001b[1;32m   1014\u001b[0m       return self._do_call(_run_fn, self._session, feed_dict, fetch_list,\n\u001b[0;32m-> 1015\u001b[0;31m                            target_list, options, run_metadata)\n\u001b[0m\u001b[1;32m   1016\u001b[0m     \u001b[0;32melse\u001b[0m\u001b[0;34m:\u001b[0m\u001b[0;34m\u001b[0m\u001b[0m\n\u001b[1;32m   1017\u001b[0m       return self._do_call(_prun_fn, self._session, handle, feed_dict,\n",
      "\u001b[0;32m/home/holman/anaconda2/envs/carND/lib/python3.6/site-packages/tensorflow/python/client/session.py\u001b[0m in \u001b[0;36m_do_call\u001b[0;34m(self, fn, *args)\u001b[0m\n\u001b[1;32m   1033\u001b[0m         \u001b[0;32mexcept\u001b[0m \u001b[0mKeyError\u001b[0m\u001b[0;34m:\u001b[0m\u001b[0;34m\u001b[0m\u001b[0m\n\u001b[1;32m   1034\u001b[0m           \u001b[0;32mpass\u001b[0m\u001b[0;34m\u001b[0m\u001b[0m\n\u001b[0;32m-> 1035\u001b[0;31m       \u001b[0;32mraise\u001b[0m \u001b[0mtype\u001b[0m\u001b[0;34m(\u001b[0m\u001b[0me\u001b[0m\u001b[0;34m)\u001b[0m\u001b[0;34m(\u001b[0m\u001b[0mnode_def\u001b[0m\u001b[0;34m,\u001b[0m \u001b[0mop\u001b[0m\u001b[0;34m,\u001b[0m \u001b[0mmessage\u001b[0m\u001b[0;34m)\u001b[0m\u001b[0;34m\u001b[0m\u001b[0m\n\u001b[0m\u001b[1;32m   1036\u001b[0m \u001b[0;34m\u001b[0m\u001b[0m\n\u001b[1;32m   1037\u001b[0m   \u001b[0;32mdef\u001b[0m \u001b[0m_extend_graph\u001b[0m\u001b[0;34m(\u001b[0m\u001b[0mself\u001b[0m\u001b[0;34m)\u001b[0m\u001b[0;34m:\u001b[0m\u001b[0;34m\u001b[0m\u001b[0m\n",
      "\u001b[0;31mOutOfRangeError\u001b[0m: box_ind has values outside [0, batch)\n\t [[Node: CropAndResize_7 = CropAndResize[T=DT_FLOAT, extrapolation_value=0, method=\"bilinear\", _device=\"/job:localhost/replica:0/task:0/gpu:0\"](vgg_16_7/conv5/conv5_3/Relu, roi_proposal_7/_59, PyFunc_7/_61, Const_7)]]\n\t [[Node: CropAndResize_7/_63 = _Recv[client_terminated=false, recv_device=\"/job:localhost/replica:0/task:0/cpu:0\", send_device=\"/job:localhost/replica:0/task:0/gpu:0\", send_device_incarnation=1, tensor_name=\"edge_153_CropAndResize_7\", tensor_type=DT_FLOAT, _device=\"/job:localhost/replica:0/task:0/cpu:0\"]()]]\n\nCaused by op 'CropAndResize_7', defined at:\n  File \"/home/holman/anaconda2/envs/carND/lib/python3.6/runpy.py\", line 193, in _run_module_as_main\n    \"__main__\", mod_spec)\n  File \"/home/holman/anaconda2/envs/carND/lib/python3.6/runpy.py\", line 85, in _run_code\n    exec(code, run_globals)\n  File \"/home/holman/anaconda2/envs/carND/lib/python3.6/site-packages/ipykernel/__main__.py\", line 3, in <module>\n    app.launch_new_instance()\n  File \"/home/holman/anaconda2/envs/carND/lib/python3.6/site-packages/traitlets/config/application.py\", line 658, in launch_instance\n    app.start()\n  File \"/home/holman/anaconda2/envs/carND/lib/python3.6/site-packages/ipykernel/kernelapp.py\", line 474, in start\n    ioloop.IOLoop.instance().start()\n  File \"/home/holman/anaconda2/envs/carND/lib/python3.6/site-packages/zmq/eventloop/ioloop.py\", line 177, in start\n    super(ZMQIOLoop, self).start()\n  File \"/home/holman/anaconda2/envs/carND/lib/python3.6/site-packages/tornado/ioloop.py\", line 887, in start\n    handler_func(fd_obj, events)\n  File \"/home/holman/anaconda2/envs/carND/lib/python3.6/site-packages/tornado/stack_context.py\", line 275, in null_wrapper\n    return fn(*args, **kwargs)\n  File \"/home/holman/anaconda2/envs/carND/lib/python3.6/site-packages/zmq/eventloop/zmqstream.py\", line 440, in _handle_events\n    self._handle_recv()\n  File \"/home/holman/anaconda2/envs/carND/lib/python3.6/site-packages/zmq/eventloop/zmqstream.py\", line 472, in _handle_recv\n    self._run_callback(callback, msg)\n  File \"/home/holman/anaconda2/envs/carND/lib/python3.6/site-packages/zmq/eventloop/zmqstream.py\", line 414, in _run_callback\n    callback(*args, **kwargs)\n  File \"/home/holman/anaconda2/envs/carND/lib/python3.6/site-packages/tornado/stack_context.py\", line 275, in null_wrapper\n    return fn(*args, **kwargs)\n  File \"/home/holman/anaconda2/envs/carND/lib/python3.6/site-packages/ipykernel/kernelbase.py\", line 276, in dispatcher\n    return self.dispatch_shell(stream, msg)\n  File \"/home/holman/anaconda2/envs/carND/lib/python3.6/site-packages/ipykernel/kernelbase.py\", line 228, in dispatch_shell\n    handler(stream, idents, msg)\n  File \"/home/holman/anaconda2/envs/carND/lib/python3.6/site-packages/ipykernel/kernelbase.py\", line 390, in execute_request\n    user_expressions, allow_stdin)\n  File \"/home/holman/anaconda2/envs/carND/lib/python3.6/site-packages/ipykernel/ipkernel.py\", line 196, in do_execute\n    res = shell.run_cell(code, store_history=store_history, silent=silent)\n  File \"/home/holman/anaconda2/envs/carND/lib/python3.6/site-packages/ipykernel/zmqshell.py\", line 501, in run_cell\n    return super(ZMQInteractiveShell, self).run_cell(*args, **kwargs)\n  File \"/home/holman/anaconda2/envs/carND/lib/python3.6/site-packages/IPython/core/interactiveshell.py\", line 2717, in run_cell\n    interactivity=interactivity, compiler=compiler, result=result)\n  File \"/home/holman/anaconda2/envs/carND/lib/python3.6/site-packages/IPython/core/interactiveshell.py\", line 2821, in run_ast_nodes\n    if self.run_code(code, result):\n  File \"/home/holman/anaconda2/envs/carND/lib/python3.6/site-packages/IPython/core/interactiveshell.py\", line 2881, in run_code\n    exec(code_obj, self.user_global_ns, self.user_ns)\n  File \"<ipython-input-21-317633c1726d>\", line 18, in <module>\n    roi_pooling = tf.image.crop_and_resize(conv_layer,roi_proposal, get_box_ids, crop_size)\n  File \"/home/holman/anaconda2/envs/carND/lib/python3.6/site-packages/tensorflow/python/ops/gen_image_ops.py\", line 178, in crop_and_resize\n    name=name)\n  File \"/home/holman/anaconda2/envs/carND/lib/python3.6/site-packages/tensorflow/python/framework/op_def_library.py\", line 763, in apply_op\n    op_def=op_def)\n  File \"/home/holman/anaconda2/envs/carND/lib/python3.6/site-packages/tensorflow/python/framework/ops.py\", line 2395, in create_op\n    original_op=self._default_original_op, op_def=op_def)\n  File \"/home/holman/anaconda2/envs/carND/lib/python3.6/site-packages/tensorflow/python/framework/ops.py\", line 1264, in __init__\n    self._traceback = _extract_stack()\n\nOutOfRangeError (see above for traceback): box_ind has values outside [0, batch)\n\t [[Node: CropAndResize_7 = CropAndResize[T=DT_FLOAT, extrapolation_value=0, method=\"bilinear\", _device=\"/job:localhost/replica:0/task:0/gpu:0\"](vgg_16_7/conv5/conv5_3/Relu, roi_proposal_7/_59, PyFunc_7/_61, Const_7)]]\n\t [[Node: CropAndResize_7/_63 = _Recv[client_terminated=false, recv_device=\"/job:localhost/replica:0/task:0/cpu:0\", send_device=\"/job:localhost/replica:0/task:0/gpu:0\", send_device_incarnation=1, tensor_name=\"edge_153_CropAndResize_7\", tensor_type=DT_FLOAT, _device=\"/job:localhost/replica:0/task:0/cpu:0\"]()]]\n"
     ]
    }
   ],
   "source": [
    "nb_anchors = len(anchor_box_scales) * len(anchor_box_ratio)\n",
    "\n",
    "img_input = tf.placeholder(tf.float32, [1, None, None, 3])\n",
    "\n",
    "crop_size = tf.constant([14,14])\n",
    "\n",
    "conv_layer,conv_end_points = vgg_16(img_input)\n",
    "conv_restore_names = [ item for item in conv_end_points] \n",
    "\n",
    "rpn_class, rpn_regr, rpn_end_points = rpn(conv_layer,nb_anchors)\n",
    "\n",
    "# poposal layer\n",
    "roi_proposal = tf.py_func(rpn_proposal_layer,[rpn_class, rpn_regr, img_input], tf.float32, name=\"roi_proposal\")\n",
    "\n",
    "# pooling layer\n",
    "get_box_ids = tf.py_func(getBoxIds, [roi_proposal],  tf.int32 );\n",
    "\n",
    "roi_pooling = tf.image.crop_and_resize(conv_layer,roi_proposal, get_box_ids, crop_size)\n",
    "# roi_pooling = tf.py_func(roi_pooling_layer,[conv_layer, roi_proposal, img_input], tf.float32, name=\"roi_pooling\")\n",
    "\n",
    "\n",
    "# restore weights\n",
    "variables_to_restore = slim.get_variables_to_restore(include=conv_restore_names)\n",
    "vgg_checkpoint_path = os.path.join(\"./\", 'vgg_16.ckpt')\n",
    "restorer = tf.train.Saver(variables_to_restore)\n",
    "\n",
    "\n",
    "init_op = tf.global_variables_initializer()\n",
    "\n",
    "with tf.Session() as sess:\n",
    "    # Restore variables from disk.\n",
    "    restorer.restore(sess, \"./vgg_16.ckpt\")\n",
    "    \n",
    "    sess.run(init_op)\n",
    "    print(\"restore conv layers\")\n",
    "    \n",
    "    res, rpn_class_res, rpn_regr_res, roi_proposal_res, roi_pooling_res = sess.run([conv_layer, rpn_class, rpn_regr, roi_proposal, roi_pooling], feed_dict={img_input:TEST_FULL_IMG})\n",
    "#     plt.imshow(res[0], cmap='gray')\n",
    "    "
   ]
  },
  {
   "cell_type": "code",
   "execution_count": null,
   "metadata": {
    "collapsed": false
   },
   "outputs": [],
   "source": [
    "print(roi_pooling_res.shape)"
   ]
  },
  {
   "cell_type": "code",
   "execution_count": null,
   "metadata": {
    "collapsed": false
   },
   "outputs": [],
   "source": [
    "roi_proposal_res[0].shape"
   ]
  },
  {
   "cell_type": "code",
   "execution_count": null,
   "metadata": {
    "collapsed": false
   },
   "outputs": [],
   "source": [
    "res.shape"
   ]
  },
  {
   "cell_type": "code",
   "execution_count": 9,
   "metadata": {
    "collapsed": false
   },
   "outputs": [
    {
     "data": {
      "text/plain": [
       "(1, 180, 320, 9)"
      ]
     },
     "execution_count": 9,
     "metadata": {},
     "output_type": "execute_result"
    }
   ],
   "source": [
    "rpn_class_res.shape"
   ]
  },
  {
   "cell_type": "code",
   "execution_count": 10,
   "metadata": {
    "collapsed": false
   },
   "outputs": [
    {
     "data": {
      "text/plain": [
       "(1, 180, 320, 36)"
      ]
     },
     "execution_count": 10,
     "metadata": {},
     "output_type": "execute_result"
    }
   ],
   "source": [
    "rpn_regr_res.shape"
   ]
  },
  {
   "cell_type": "code",
   "execution_count": 11,
   "metadata": {
    "collapsed": false,
    "scrolled": true
   },
   "outputs": [],
   "source": [
    "# print(rpn_end_points)"
   ]
  },
  {
   "cell_type": "code",
   "execution_count": 12,
   "metadata": {
    "collapsed": false
   },
   "outputs": [
    {
     "data": {
      "text/plain": [
       "(180, 320, 512)"
      ]
     },
     "execution_count": 12,
     "metadata": {},
     "output_type": "execute_result"
    }
   ],
   "source": [
    "res[0].shape"
   ]
  },
  {
   "cell_type": "code",
   "execution_count": null,
   "metadata": {
    "collapsed": true
   },
   "outputs": [],
   "source": []
  },
  {
   "cell_type": "code",
   "execution_count": null,
   "metadata": {
    "collapsed": true
   },
   "outputs": [],
   "source": []
  },
  {
   "cell_type": "code",
   "execution_count": null,
   "metadata": {
    "collapsed": true
   },
   "outputs": [],
   "source": []
  }
 ],
 "metadata": {
  "kernelspec": {
   "display_name": "Python 3",
   "language": "python",
   "name": "python3"
  },
  "language_info": {
   "codemirror_mode": {
    "name": "ipython",
    "version": 3
   },
   "file_extension": ".py",
   "mimetype": "text/x-python",
   "name": "python",
   "nbconvert_exporter": "python",
   "pygments_lexer": "ipython3",
   "version": "3.6.0"
  }
 },
 "nbformat": 4,
 "nbformat_minor": 2
}
