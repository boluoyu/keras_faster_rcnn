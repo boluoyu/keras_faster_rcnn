{
 "cells": [
  {
   "cell_type": "code",
   "execution_count": 1,
   "metadata": {
    "collapsed": true
   },
   "outputs": [],
   "source": [
    "from tensorflow.contrib import layers\n",
    "from tensorflow.contrib.framework.python.ops import arg_scope\n",
    "from tensorflow.contrib.layers.python.layers import layers as layers_lib\n",
    "from tensorflow.contrib.layers.python.layers import regularizers\n",
    "from tensorflow.contrib.layers.python.layers import utils\n",
    "from tensorflow.python.ops import array_ops\n",
    "from tensorflow.python.ops import init_ops\n",
    "from tensorflow.python.ops import nn_ops\n",
    "from tensorflow.python.ops import variable_scope\n",
    "import tensorflow.contrib.slim as slim\n",
    "import tensorflow as tf\n",
    "import os\n",
    "\n",
    "from math import floor\n",
    "import pprint\n",
    "\n",
    "import matplotlib.image as mpimg\n",
    "import numpy as np\n",
    "import matplotlib.pylab as plt"
   ]
  },
  {
   "cell_type": "code",
   "execution_count": 2,
   "metadata": {
    "collapsed": false
   },
   "outputs": [],
   "source": [
    "\n",
    "anchor_box_scales = [128, 256, 512]\n",
    "anchor_box_ratio = [[1,1],[1,2],[2,1]]\n",
    "\n",
    "\n",
    "TEST_FULL_IMG = np.array([mpimg.imread(\"./test1.jpg\")])"
   ]
  },
  {
   "cell_type": "code",
   "execution_count": 3,
   "metadata": {
    "collapsed": false
   },
   "outputs": [
    {
     "name": "stdout",
     "output_type": "stream",
     "text": [
      "(1, 720, 1280, 3)\n",
      "180.0 320.0\n"
     ]
    }
   ],
   "source": [
    "print(TEST_FULL_IMG.shape)\n",
    "print(TEST_FULL_IMG.shape[1]/4, TEST_FULL_IMG.shape[2]/4)"
   ]
  },
  {
   "cell_type": "code",
   "execution_count": 47,
   "metadata": {
    "collapsed": false
   },
   "outputs": [],
   "source": [
    "def vgg_16(inputs,  scope='vgg_16'):\n",
    "    with tf.variable_scope(scope, 'vgg_16', [inputs]) as sc:\n",
    "        end_points_collection = sc.name + '_end_points'\n",
    "\n",
    "        # Collect outputs for conv2d, fully_connected and max_pool2d.\n",
    "        with slim.arg_scope([slim.conv2d, slim.fully_connected, slim.max_pool2d], outputs_collections=end_points_collection):\n",
    "            net = slim.repeat(inputs, 2, slim.conv2d, 64, [3, 3], scope='conv1')\n",
    "            net = slim.max_pool2d(net, [2, 2], scope='pool1')\n",
    "            net = slim.repeat(net, 2, slim.conv2d, 128, [3, 3], scope='conv2')\n",
    "            net = slim.max_pool2d(net, [2, 2], scope='pool2')\n",
    "            net = slim.repeat(net, 3, slim.conv2d, 256, [3, 3], scope='conv3')\n",
    "#             net = slim.max_pool2d(net, [2, 2], scope='pool3')\n",
    "            net = slim.repeat(net, 3, slim.conv2d, 512, [3, 3], scope='conv4')\n",
    "#             net = slim.max_pool2d(net, [2, 2], scope='pool4')\n",
    "            net = slim.repeat(net, 3, slim.conv2d, 512, [3, 3], scope='conv5')\n",
    "\n",
    "            # Convert end_points_collection into a end_point dict.\n",
    "            end_points = slim.utils.convert_collection_to_dict(end_points_collection)\n",
    "        \n",
    "    return net, end_points\n",
    "\n",
    "\n",
    "def rpn(net, num_anchors=9, scope=\"rpn\"):\n",
    "    with tf.variable_scope(scope, 'rpn', [net]) as sc:\n",
    "        end_points_collection = sc.name + '_end_points'\n",
    "        \n",
    "        with slim.arg_scope([slim.conv2d, slim.fully_connected, slim.max_pool2d], \n",
    "                            outputs_collections=end_points_collection, \n",
    "                            activation_fn=tf.nn.relu,\n",
    "                            weights_initializer=tf.truncated_normal_initializer(0.0, 0.01)):\n",
    "            \n",
    "            net = slim.conv2d(net, 512, [3, 1], scope='rpn_conv_3x3', padding='SAME')\n",
    "            \n",
    "            rpn_class = slim.conv2d(net, num_anchors*2, [1, 1], scope='rpn_class')\n",
    "            rpn_class_reshape = tf.reshape(rpn_class, [-1, num_anchors, 2], name=\"rpn_class_reshape\")\n",
    "            \n",
    "            rpn_regr = slim.conv2d(net, num_anchors*4, [1, 1], scope='rpn_regr')   \n",
    "            rpn_regr_reshape = tf.reshape(rpn_regr, [-1, num_anchors, 4], name=\"rpn_regr_reshape\")\n",
    "\n",
    "            # Convert end_points_collection into a end_point dict.\n",
    "            end_points = slim.utils.convert_collection_to_dict(end_points_collection)\n",
    "        \n",
    "    return rpn_class_reshape, rpn_regr_reshape, end_points\n",
    "\n",
    "def rpn_proposal_layer(x):\n",
    "    \n",
    "    pass"
   ]
  },
  {
   "cell_type": "code",
   "execution_count": 48,
   "metadata": {
    "collapsed": false
   },
   "outputs": [
    {
     "name": "stdout",
     "output_type": "stream",
     "text": [
      "restore conv layers\n"
     ]
    }
   ],
   "source": [
    "nb_anchors = len(anchor_box_scales) * len(anchor_box_ratio)\n",
    "\n",
    "\n",
    "img_input = tf.placeholder(tf.float32, [1, None, None, 3])\n",
    "\n",
    "net,conv_end_points = vgg_16(img_input)\n",
    "conv_restore_names = [ item for item in conv_end_points] \n",
    "\n",
    "rpn_class, rpn_regr, rpn_end_points = rpn(net,nb_anchors)\n",
    "\n",
    "rpn_end_points_tensor = [ rpn_end_points[item] for item in rpn_end_points] \n",
    "# rpn_weights_initializer = tf.variables_initializer(rpn_end_points_tensor)\n",
    "# roi_proposal = tf.py_func(rpn_proposal_layer,[rpn_class, rpn_regr], [None, tf.float32], name=\"roi_proposal\")\n",
    "\n",
    "\n",
    "\n",
    "# restore weights\n",
    "variables_to_restore = slim.get_variables_to_restore(include=conv_restore_names)\n",
    "vgg_checkpoint_path = os.path.join(\"./\", 'vgg_16.ckpt')\n",
    "restorer = tf.train.Saver(variables_to_restore)\n",
    "\n",
    "\n",
    "init_op = tf.global_variables_initializer()\n",
    "\n",
    "with tf.Session() as sess:\n",
    "    # Restore variables from disk.\n",
    "    restorer.restore(sess, \"./vgg_16.ckpt\")\n",
    "    \n",
    "    sess.run(init_op)\n",
    "    print(\"restore conv layers\")\n",
    "    \n",
    "    res, rpn_class_res, rpn_regr_res = sess.run([net, rpn_class, rpn_regr], feed_dict={img_input:TEST_FULL_IMG})\n",
    "#     plt.imshow(res[0], cmap='gray')\n",
    "    "
   ]
  },
  {
   "cell_type": "code",
   "execution_count": 49,
   "metadata": {
    "collapsed": false
   },
   "outputs": [
    {
     "data": {
      "text/plain": [
       "(1, 180, 320, 512)"
      ]
     },
     "execution_count": 49,
     "metadata": {},
     "output_type": "execute_result"
    }
   ],
   "source": [
    "res.shape"
   ]
  },
  {
   "cell_type": "code",
   "execution_count": 50,
   "metadata": {
    "collapsed": false
   },
   "outputs": [
    {
     "data": {
      "text/plain": [
       "(57600, 9, 2)"
      ]
     },
     "execution_count": 50,
     "metadata": {},
     "output_type": "execute_result"
    }
   ],
   "source": [
    "rpn_class_res.shape"
   ]
  },
  {
   "cell_type": "code",
   "execution_count": 51,
   "metadata": {
    "collapsed": false
   },
   "outputs": [
    {
     "data": {
      "text/plain": [
       "(57600, 9, 4)"
      ]
     },
     "execution_count": 51,
     "metadata": {},
     "output_type": "execute_result"
    }
   ],
   "source": [
    "rpn_regr_res.shape"
   ]
  },
  {
   "cell_type": "code",
   "execution_count": 29,
   "metadata": {
    "collapsed": false,
    "scrolled": true
   },
   "outputs": [
    {
     "name": "stdout",
     "output_type": "stream",
     "text": [
      "OrderedDict([('rpn/rpn_conv_3x3', <tf.Tensor 'rpn/rpn_conv_3x3/Relu:0' shape=(1, ?, ?, 512) dtype=float32>), ('rpn/rpn_class', <tf.Tensor 'rpn/rpn_class/Relu:0' shape=(1, ?, ?, 18) dtype=float32>), ('rpn/rpn_regr', <tf.Tensor 'rpn/rpn_regr/Relu:0' shape=(1, ?, ?, 36) dtype=float32>), ('rpn_1/rpn_conv_3x3', <tf.Tensor 'rpn_1/rpn_conv_3x3/Relu:0' shape=(1, ?, ?, 512) dtype=float32>), ('rpn_1/rpn_class', <tf.Tensor 'rpn_1/rpn_class/Relu:0' shape=(1, ?, ?, 18) dtype=float32>), ('rpn_1/rpn_regr', <tf.Tensor 'rpn_1/rpn_regr/Relu:0' shape=(1, ?, ?, 36) dtype=float32>), ('rpn_2/rpn_conv_3x3', <tf.Tensor 'rpn_2/rpn_conv_3x3/Relu:0' shape=(1, ?, ?, 512) dtype=float32>), ('rpn_2/rpn_class', <tf.Tensor 'rpn_2/rpn_class/Relu:0' shape=(1, ?, ?, 18) dtype=float32>), ('rpn_2/rpn_regr', <tf.Tensor 'rpn_2/rpn_regr/Relu:0' shape=(1, ?, ?, 36) dtype=float32>), ('rpn_3/rpn_conv_3x3', <tf.Tensor 'rpn_3/rpn_conv_3x3/Relu:0' shape=(1, ?, ?, 512) dtype=float32>), ('rpn_3/rpn_class', <tf.Tensor 'rpn_3/rpn_class/Relu:0' shape=(1, ?, ?, 18) dtype=float32>), ('rpn_3/rpn_regr', <tf.Tensor 'rpn_3/rpn_regr/Relu:0' shape=(1, ?, ?, 36) dtype=float32>), ('rpn_4/rpn_conv_3x3', <tf.Tensor 'rpn_4/rpn_conv_3x3/Relu:0' shape=(1, ?, ?, 512) dtype=float32>), ('rpn_4/rpn_class', <tf.Tensor 'rpn_4/rpn_class/Relu:0' shape=(1, ?, ?, 18) dtype=float32>), ('rpn_4/rpn_regr', <tf.Tensor 'rpn_4/rpn_regr/Relu:0' shape=(1, ?, ?, 36) dtype=float32>), ('rpn_5/rpn_conv_3x3', <tf.Tensor 'rpn_5/rpn_conv_3x3/Relu:0' shape=(1, ?, ?, 512) dtype=float32>), ('rpn_5/rpn_class', <tf.Tensor 'rpn_5/rpn_class/Relu:0' shape=(1, ?, ?, 18) dtype=float32>), ('rpn_5/rpn_regr', <tf.Tensor 'rpn_5/rpn_regr/Relu:0' shape=(1, ?, ?, 36) dtype=float32>), ('rpn_6/rpn_conv_3x3', <tf.Tensor 'rpn_6/rpn_conv_3x3/Relu:0' shape=(1, ?, ?, 512) dtype=float32>), ('rpn_6/rpn_class', <tf.Tensor 'rpn_6/rpn_class/Relu:0' shape=(1, ?, ?, 18) dtype=float32>), ('rpn_6/rpn_regr', <tf.Tensor 'rpn_6/rpn_regr/Relu:0' shape=(1, ?, ?, 36) dtype=float32>), ('rpn_7/rpn_conv_3x3', <tf.Tensor 'rpn_7/rpn_conv_3x3/Relu:0' shape=(1, ?, ?, 512) dtype=float32>), ('rpn_7/rpn_class', <tf.Tensor 'rpn_7/rpn_class/Relu:0' shape=(1, ?, ?, 18) dtype=float32>), ('rpn_7/rpn_regr', <tf.Tensor 'rpn_7/rpn_regr/Relu:0' shape=(1, ?, ?, 36) dtype=float32>), ('rpn_8/rpn_conv_3x3', <tf.Tensor 'rpn_8/rpn_conv_3x3/Relu:0' shape=(1, ?, ?, 512) dtype=float32>), ('rpn_8/rpn_class', <tf.Tensor 'rpn_8/rpn_class/Relu:0' shape=(1, ?, ?, 18) dtype=float32>), ('rpn_8/rpn_regr', <tf.Tensor 'rpn_8/rpn_regr/Relu:0' shape=(1, ?, ?, 36) dtype=float32>), ('rpn_9/rpn_conv_3x3', <tf.Tensor 'rpn_9/rpn_conv_3x3/Relu:0' shape=(1, ?, ?, 512) dtype=float32>), ('rpn_9/rpn_class', <tf.Tensor 'rpn_9/rpn_class/Relu:0' shape=(1, ?, ?, 18) dtype=float32>), ('rpn_9/rpn_regr', <tf.Tensor 'rpn_9/rpn_regr/Relu:0' shape=(1, ?, ?, 36) dtype=float32>)])\n"
     ]
    }
   ],
   "source": [
    "print(rpn_end_points)"
   ]
  },
  {
   "cell_type": "code",
   "execution_count": 11,
   "metadata": {
    "collapsed": false
   },
   "outputs": [
    {
     "data": {
      "text/plain": [
       "(1, 45, 80, 512)"
      ]
     },
     "execution_count": 11,
     "metadata": {},
     "output_type": "execute_result"
    }
   ],
   "source": [
    "res[0].shape"
   ]
  },
  {
   "cell_type": "code",
   "execution_count": null,
   "metadata": {
    "collapsed": true
   },
   "outputs": [],
   "source": []
  },
  {
   "cell_type": "code",
   "execution_count": null,
   "metadata": {
    "collapsed": true
   },
   "outputs": [],
   "source": []
  },
  {
   "cell_type": "code",
   "execution_count": null,
   "metadata": {
    "collapsed": true
   },
   "outputs": [],
   "source": []
  }
 ],
 "metadata": {
  "kernelspec": {
   "display_name": "Python 3",
   "language": "python",
   "name": "python3"
  },
  "language_info": {
   "codemirror_mode": {
    "name": "ipython",
    "version": 3
   },
   "file_extension": ".py",
   "mimetype": "text/x-python",
   "name": "python",
   "nbconvert_exporter": "python",
   "pygments_lexer": "ipython3",
   "version": "3.6.0"
  }
 },
 "nbformat": 4,
 "nbformat_minor": 2
}
