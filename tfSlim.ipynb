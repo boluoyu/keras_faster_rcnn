{
 "cells": [
  {
   "cell_type": "code",
   "execution_count": 1,
   "metadata": {
    "collapsed": true
   },
   "outputs": [],
   "source": [
    "from tensorflow.contrib import layers\n",
    "from tensorflow.contrib.framework.python.ops import arg_scope\n",
    "from tensorflow.contrib.layers.python.layers import layers as layers_lib\n",
    "from tensorflow.contrib.layers.python.layers import regularizers\n",
    "from tensorflow.contrib.layers.python.layers import utils\n",
    "from tensorflow.python.ops import array_ops\n",
    "from tensorflow.python.ops import init_ops\n",
    "from tensorflow.python.ops import nn_ops\n",
    "from tensorflow.python.ops import variable_scope\n",
    "import tensorflow.contrib.slim as slim\n",
    "import tensorflow as tf\n",
    "import os\n",
    "\n",
    "from scipy.misc import imresize\n",
    "\n",
    "from math import floor,exp\n",
    "import pprint\n",
    "\n",
    "import matplotlib.image as mpimg\n",
    "import numpy as np\n",
    "import matplotlib.pylab as plt"
   ]
  },
  {
   "cell_type": "code",
   "execution_count": 2,
   "metadata": {
    "collapsed": false
   },
   "outputs": [],
   "source": [
    "\n",
    "anchor_box_scales = [128, 256, 512]\n",
    "anchor_box_ratio = [[1,1],[1,2],[2,1]]\n",
    "\n",
    "\n",
    "TEST_FULL_IMG = np.array([mpimg.imread(\"./test1.jpg\")])"
   ]
  },
  {
   "cell_type": "code",
   "execution_count": 3,
   "metadata": {
    "collapsed": false
   },
   "outputs": [
    {
     "name": "stdout",
     "output_type": "stream",
     "text": [
      "(1, 720, 1280, 3)\n",
      "180.0 320.0\n"
     ]
    }
   ],
   "source": [
    "print(TEST_FULL_IMG.shape)\n",
    "print(TEST_FULL_IMG.shape[1]/4, TEST_FULL_IMG.shape[2]/4)"
   ]
  },
  {
   "cell_type": "code",
   "execution_count": 31,
   "metadata": {
    "collapsed": false
   },
   "outputs": [],
   "source": [
    "def vgg_16(inputs,  scope='vgg_16'):\n",
    "    with tf.variable_scope(scope, 'vgg_16', [inputs]) as sc:\n",
    "        end_points_collection = sc.name + '_end_points'\n",
    "\n",
    "        # Collect outputs for conv2d, fully_connected and max_pool2d.\n",
    "        with slim.arg_scope([slim.conv2d, slim.fully_connected, slim.max_pool2d], outputs_collections=end_points_collection):\n",
    "            net = slim.repeat(inputs, 2, slim.conv2d, 64, [3, 3], scope='conv1')\n",
    "            net = slim.max_pool2d(net, [2, 2], scope='pool1')\n",
    "            net = slim.repeat(net, 2, slim.conv2d, 128, [3, 3], scope='conv2')\n",
    "            net = slim.max_pool2d(net, [2, 2], scope='pool2')\n",
    "            net = slim.repeat(net, 3, slim.conv2d, 256, [3, 3], scope='conv3')\n",
    "#             net = slim.max_pool2d(net, [2, 2], scope='pool3')\n",
    "            net = slim.repeat(net, 3, slim.conv2d, 512, [3, 3], scope='conv4')\n",
    "#             net = slim.max_pool2d(net, [2, 2], scope='pool4')\n",
    "            net = slim.repeat(net, 3, slim.conv2d, 512, [3, 3], scope='conv5')\n",
    "\n",
    "            # Convert end_points_collection into a end_point dict.\n",
    "            end_points = slim.utils.convert_collection_to_dict(end_points_collection)\n",
    "        \n",
    "    return net, end_points\n",
    "\n",
    "\n",
    "def rpn(net, num_anchors=9, scope=\"rpn\"):\n",
    "    with tf.variable_scope(scope, 'rpn', [net]) as sc:\n",
    "        end_points_collection = sc.name + '_end_points'\n",
    "        \n",
    "        with slim.arg_scope([slim.conv2d, slim.fully_connected, slim.max_pool2d], \n",
    "                            outputs_collections=end_points_collection, \n",
    "                            activation_fn=tf.nn.relu,\n",
    "                            weights_initializer=tf.truncated_normal_initializer(0.0, 0.01)):\n",
    "            \n",
    "            net = slim.conv2d(net, 512, [3, 1], scope='rpn_conv_3x3', padding='SAME')\n",
    "            \n",
    "            rpn_class = slim.conv2d(net, num_anchors, [1, 1], scope='rpn_class')\n",
    "            \n",
    "            rpn_regr = slim.conv2d(net, num_anchors*4, [1, 1], scope='rpn_regr')   \n",
    "\n",
    "            # Convert end_points_collection into a end_point dict.\n",
    "            end_points = slim.utils.convert_collection_to_dict(end_points_collection)\n",
    "        \n",
    "    return rpn_class, rpn_regr, end_points\n",
    "\n",
    "def mapAnchorToBoxs(rpn_class, rpn_regr, feature_map_ratio, ratio=[(1,1),(2,1),(1,2)], pixel=[64,128,512]):\n",
    "    \n",
    "    class_res  = [];\n",
    "    regr_res = [];\n",
    "    \n",
    "    \n",
    "    for row in range(rpn_class.shape[0]):\n",
    "        for col in range(rpn_class.shape[1]):\n",
    "            i = 0\n",
    "            for r in ratio:\n",
    "                j = 0\n",
    "                for p in pixel:\n",
    "                    anchor_width = r[0]*p / feature_map_ratio\n",
    "                    anchor_height = r[1]*p / feature_map_ratio\n",
    "                    \n",
    "                    p_anchor = rpn_regr[row][col][i+j]\n",
    "                    \n",
    "                    cx = row + p_anchor[0]*anchor_width\n",
    "                    cy = col + p_anchor[1]*anchor_height\n",
    "                    pred_w = exp(p_anchor[2]) * anchor_width\n",
    "                    pred_h = exp(p_anchor[3]) * anchor_height\n",
    "                    \n",
    "                    x1 = int(cx - 0.5 * pred_w)\n",
    "                    y1 = int(cy - 0.5 * pred_h)\n",
    "                    x2 = int(cx + 0.5 * pred_w)\n",
    "                    y2 = int(cy + 0.5 * pred_h)\n",
    "                    \n",
    "                    regr_res.append([x1,y1,x2,y2])\n",
    "                    class_res.append(rpn_class[row][col][i+j])\n",
    "#                     print(\"rpn_class[row][col][i+j]\",rpn_class[row][col][i+j])\n",
    "                    \n",
    "                    \n",
    "                    j+=1\n",
    "                i+=1\n",
    "    \n",
    "    return np.array(class_res), np.array(regr_res)\n",
    "\n",
    "\n",
    "# def bbox_transform_inv(boxes, deltas):\n",
    "#     if boxes.shape[0] == 0:\n",
    "#         return np.zeros((0, deltas.shape[1]), dtype=deltas.dtype)\n",
    "\n",
    "#     boxes = boxes.astype(deltas.dtype, copy=False)\n",
    "\n",
    "#     widths = boxes[:, 2] - boxes[:, 0] + 1.0\n",
    "#     heights = boxes[:, 3] - boxes[:, 1] + 1.0\n",
    "#     ctr_x = boxes[:, 0] + 0.5 * widths\n",
    "#     ctr_y = boxes[:, 1] + 0.5 * heights\n",
    "\n",
    "#     dx = deltas[:, 0::4]\n",
    "#     dy = deltas[:, 1::4]\n",
    "#     dw = deltas[:, 2::4]\n",
    "#     dh = deltas[:, 3::4]\n",
    "\n",
    "#     pred_ctr_x = dx * widths[:, np.newaxis] + ctr_x[:, np.newaxis]\n",
    "#     pred_ctr_y = dy * heights[:, np.newaxis] + ctr_y[:, np.newaxis]\n",
    "#     pred_w = np.exp(dw) * widths[:, np.newaxis]\n",
    "#     pred_h = np.exp(dh) * heights[:, np.newaxis]\n",
    "\n",
    "#     pred_boxes = np.zeros(deltas.shape, dtype=deltas.dtype)\n",
    "#     # x1\n",
    "#     pred_boxes[:, 0::4] = pred_ctr_x - 0.5 * pred_w\n",
    "#     # y1\n",
    "#     pred_boxes[:, 1::4] = pred_ctr_y - 0.5 * pred_h\n",
    "#     # x2\n",
    "#     pred_boxes[:, 2::4] = pred_ctr_x + 0.5 * pred_w\n",
    "#     # y2\n",
    "#     pred_boxes[:, 3::4] = pred_ctr_y + 0.5 * pred_h\n",
    "\n",
    "#     return pred_boxes\n",
    "\n",
    "\n",
    "def getLargest(a,b):\n",
    "    if (a>b):\n",
    "        return a\n",
    "    else :\n",
    "        return b\n",
    "\n",
    "def getSmallest(a,b):\n",
    "    if(a<b):\n",
    "        return a\n",
    "    else:\n",
    "        return b\n",
    "    \n",
    "    \n",
    "def clip_boxes(boxes, im_shape_col, im_shape_row):\n",
    "    \"\"\"\n",
    "    Clip boxes to image boundaries.\n",
    "    \"\"\"\n",
    "    for box in boxes:\n",
    "        box[0] = getLargest( getSmallest(box[0], im_shape_col) ,0)\n",
    "        box[1] = getLargest( getSmallest(box[1], im_shape_row) ,0)\n",
    "        box[2] = getLargest( getSmallest(box[2], im_shape_col) ,0)\n",
    "        box[3] = getLargest( getSmallest(box[3], im_shape_row) ,0)\n",
    "            \n",
    "    return boxes\n",
    "\n",
    "def filter_boxs_by_size(boxes, threshold=30):\n",
    "    \n",
    "    ws = boxes[:, 2] - boxes[:, 0] + 1\n",
    "    hs = boxes[:, 3] - boxes[:, 1] + 1\n",
    "    keep = np.where((ws >= threshold) & (hs >= threshold))[0]\n",
    "    return keep\n",
    "\n",
    "def nms(dets, thresh):\n",
    "    \"\"\"Pure Python NMS baseline.\"\"\"\n",
    "    x1 = dets[:, 0]\n",
    "    y1 = dets[:, 1]\n",
    "    x2 = dets[:, 2]\n",
    "    y2 = dets[:, 3]\n",
    "    scores = dets[:, 4]\n",
    "\n",
    "    areas = (x2 - x1 + 1) * (y2 - y1 + 1)\n",
    "    order = scores.argsort()[::-1]\n",
    "\n",
    "    keep = []\n",
    "    while order.size > 0:\n",
    "        i = order[0]\n",
    "        keep.append(i)\n",
    "        xx1 = np.maximum(x1[i], x1[order[1:]])\n",
    "        yy1 = np.maximum(y1[i], y1[order[1:]])\n",
    "        xx2 = np.minimum(x2[i], x2[order[1:]])\n",
    "        yy2 = np.minimum(y2[i], y2[order[1:]])\n",
    "\n",
    "        w = np.maximum(0.0, xx2 - xx1 + 1)\n",
    "        h = np.maximum(0.0, yy2 - yy1 + 1)\n",
    "        inter = w * h\n",
    "        ovr = inter / (areas[i] + areas[order[1:]] - inter)\n",
    "\n",
    "        inds = np.where(ovr <= thresh)[0]\n",
    "        order = order[inds + 1]\n",
    "\n",
    "    return keep\n",
    "\n",
    "def rpn_proposal_layer(rpn_class, rpn_regr, img_input):\n",
    "    ''' \n",
    "    This function map anchor to the position, which return x,y,w,h with globel coor. \n",
    "    rather than anchor inner position.\n",
    "    img_input is use for get the imgSize ref.\n",
    "    '''\n",
    "    \n",
    "    print(\"rpn_class.shape\", rpn_class.shape)\n",
    "    print(\"rpn_regr.shape\", rpn_regr.shape)\n",
    "    print(\"img_input.shape\", img_input.shape)\n",
    "    \n",
    "    img_width = img_input.shape[2]\n",
    "    img_height = img_input.shape[1]\n",
    "    \n",
    "    feature_map_width = rpn_regr.shape[2]\n",
    "    feature_map_height = rpn_regr.shape[1]\n",
    "    \n",
    "    img_to_feature_map_ratio = img_width/feature_map_width\n",
    "    \n",
    "    nb_anchors = int(rpn_class.shape[3])\n",
    "    \n",
    "#     reshape the array by anchors \n",
    "    rpn_class_reshaped = np.reshape(rpn_class, (int(rpn_class.shape[1]), int(rpn_class.shape[2]),nb_anchors, 1))\n",
    "    rpn_regr_reshaped = np.reshape(rpn_regr, (int(rpn_regr.shape[1]), int(rpn_regr.shape[2]),nb_anchors, 4)) \n",
    "    \n",
    "    class_res, regr_res = mapAnchorToBoxs(rpn_class_reshaped, rpn_regr_reshaped, img_to_feature_map_ratio)\n",
    "    \n",
    "    # 2. clip predicted boxes to image\n",
    "    regr_res = clip_boxes(regr_res, int(rpn_class.shape[2]), int(rpn_class.shape[1]))\n",
    "    print(\"class_res.shape\",class_res.shape)\n",
    "    print(\"regr_res.shape\",regr_res.shape)\n",
    "    \n",
    "    # filter by size\n",
    "    id_keep = filter_boxs_by_size(regr_res, 30)\n",
    "    print(\"id_keep.shape\",id_keep.shape)\n",
    "    class_res_keep = class_res[id_keep]\n",
    "    regr_res_keep = regr_res[id_keep, :]\n",
    "    \n",
    "    # sort \n",
    "    # getTop N \n",
    "    pre_nms_topN = 6000\n",
    "    \n",
    "    order = class_res_keep.ravel().argsort()[::-1]\n",
    "    if pre_nms_topN > 0:\n",
    "        order = order[:pre_nms_topN]\n",
    "    proposals = regr_res_keep[order, :]\n",
    "    scores = class_res_keep[order]\n",
    "    \n",
    "    print(\"proposals.shape\",proposals.shape)    \n",
    "    print(\"scores.shape\",scores.shape)\n",
    "    \n",
    "    # 6. apply nms (e.g. threshold = 0.7)\n",
    "    # 7. take after_nms_topN (e.g. 300)\n",
    "    # 8. return the top proposals (-> RoIs top)\n",
    "    post_nms_topN = 300\n",
    "    nms_thresh = 0.6\n",
    "    keep = nms(np.hstack((proposals, scores)), nms_thresh)\n",
    "    if post_nms_topN > 0:\n",
    "        keep = keep[:post_nms_topN]\n",
    "    proposals = proposals[keep, :]\n",
    "    scores = scores[keep]\n",
    "    print(\"proposals.shape\",proposals.shape)    \n",
    "    print(\"scores.shape\",scores.shape)\n",
    "    \n",
    "    return proposals.astype(np.float32) "
   ]
  },
  {
   "cell_type": "code",
   "execution_count": 32,
   "metadata": {
    "collapsed": false
   },
   "outputs": [],
   "source": [
    "def getBoxIds(poposal_res):\n",
    "    print(\"poposal_res.shape\",poposal_res.shape)\n",
    "    return np.zeros(len(poposal_res)).astype(np.int32)"
   ]
  },
  {
   "cell_type": "code",
   "execution_count": 34,
   "metadata": {
    "collapsed": false
   },
   "outputs": [
    {
     "name": "stdout",
     "output_type": "stream",
     "text": [
      "restore conv layers\n",
      "rpn_class.shape (1, 180, 320, 9)\n",
      "rpn_regr.shape (1, 180, 320, 36)\n",
      "img_input.shape (1, 720, 1280, 3)\n",
      "class_res.shape (518400, 1)\n",
      "regr_res.shape (518400, 4)\n",
      "id_keep.shape (213659,)\n",
      "proposals.shape (6000, 4)\n",
      "scores.shape (6000, 1)\n",
      "proposals.shape (15, 4)\n",
      "scores.shape (15, 1)\n",
      "poposal_res.shape (15, 4)\n"
     ]
    }
   ],
   "source": [
    "nb_anchors = len(anchor_box_scales) * len(anchor_box_ratio)\n",
    "\n",
    "img_input = tf.placeholder(tf.float32, [1, None, None, 3])\n",
    "\n",
    "crop_size = tf.constant([14,14])\n",
    "\n",
    "conv_layer,conv_end_points = vgg_16(img_input)\n",
    "conv_restore_names = [ item for item in conv_end_points] \n",
    "\n",
    "rpn_class, rpn_regr, rpn_end_points = rpn(conv_layer,nb_anchors)\n",
    "\n",
    "# poposal layer\n",
    "roi_proposal = tf.py_func(rpn_proposal_layer,[rpn_class, rpn_regr, img_input], tf.float32, name=\"roi_proposal\")\n",
    "\n",
    "# pooling layer\n",
    "get_box_ids = tf.py_func(getBoxIds, [roi_proposal],  tf.int32 );\n",
    "\n",
    "roi_pooling = tf.image.crop_and_resize(conv_layer,roi_proposal, get_box_ids, crop_size)\n",
    "roi_pooling = tf.nn.max_pool(roi_pooling, ksize=[1, 2, 2, 1], strides=[1, 2, 2, 1],  padding='SAME')\n",
    "\n",
    "flatten = slim.flatten(roi_pooling, scope=\"flatten\")\n",
    "fc6 = slim.fully_connected(flatten, 4096)\n",
    "fc7 = slim.fully_connected(fc6, 4096)\n",
    "\n",
    "cls_score = slim.fully_connected(fc7, 21)  # 20 class + bg \n",
    "cls_score = tf.nn.softmax(cls_score)\n",
    "\n",
    "bbox_pred = slim.fully_connected(fc7, 84) # each class have it's own bbox\n",
    "\n",
    "# restore weights\n",
    "variables_to_restore = slim.get_variables_to_restore(include=conv_restore_names)\n",
    "vgg_checkpoint_path = os.path.join(\"./\", 'vgg_16.ckpt')\n",
    "restorer = tf.train.Saver(variables_to_restore)\n",
    "\n",
    "\n",
    "init_op = tf.global_variables_initializer()\n",
    "\n",
    "with tf.Session() as sess:\n",
    "    # Restore variables from disk.\n",
    "    restorer.restore(sess, \"./vgg_16.ckpt\")\n",
    "    \n",
    "    sess.run(init_op)\n",
    "    print(\"restore conv layers\")\n",
    "    \n",
    "    res, rpn_class_res, rpn_regr_res, roi_proposal_res, roi_pooling_res = sess.run([conv_layer, rpn_class, rpn_regr, roi_proposal, roi_pooling], feed_dict={img_input:TEST_FULL_IMG})\n",
    "#     plt.imshow(res[0], cmap='gray')\n",
    "    "
   ]
  },
  {
   "cell_type": "code",
   "execution_count": null,
   "metadata": {
    "collapsed": false
   },
   "outputs": [],
   "source": []
  },
  {
   "cell_type": "code",
   "execution_count": 35,
   "metadata": {
    "collapsed": false
   },
   "outputs": [
    {
     "name": "stdout",
     "output_type": "stream",
     "text": [
      "(15, 7, 7, 512)\n"
     ]
    }
   ],
   "source": [
    "print(roi_pooling_res.shape)"
   ]
  },
  {
   "cell_type": "code",
   "execution_count": null,
   "metadata": {
    "collapsed": false
   },
   "outputs": [],
   "source": [
    "roi_proposal_res[0].shape"
   ]
  },
  {
   "cell_type": "code",
   "execution_count": null,
   "metadata": {
    "collapsed": false
   },
   "outputs": [],
   "source": [
    "res.shape"
   ]
  },
  {
   "cell_type": "code",
   "execution_count": 9,
   "metadata": {
    "collapsed": false
   },
   "outputs": [
    {
     "data": {
      "text/plain": [
       "(1, 180, 320, 9)"
      ]
     },
     "execution_count": 9,
     "metadata": {},
     "output_type": "execute_result"
    }
   ],
   "source": [
    "rpn_class_res.shape"
   ]
  },
  {
   "cell_type": "code",
   "execution_count": 10,
   "metadata": {
    "collapsed": false
   },
   "outputs": [
    {
     "data": {
      "text/plain": [
       "(1, 180, 320, 36)"
      ]
     },
     "execution_count": 10,
     "metadata": {},
     "output_type": "execute_result"
    }
   ],
   "source": [
    "rpn_regr_res.shape"
   ]
  },
  {
   "cell_type": "code",
   "execution_count": 11,
   "metadata": {
    "collapsed": false,
    "scrolled": true
   },
   "outputs": [],
   "source": [
    "# print(rpn_end_points)"
   ]
  },
  {
   "cell_type": "code",
   "execution_count": 12,
   "metadata": {
    "collapsed": false
   },
   "outputs": [
    {
     "data": {
      "text/plain": [
       "(180, 320, 512)"
      ]
     },
     "execution_count": 12,
     "metadata": {},
     "output_type": "execute_result"
    }
   ],
   "source": [
    "res[0].shape"
   ]
  },
  {
   "cell_type": "code",
   "execution_count": null,
   "metadata": {
    "collapsed": true
   },
   "outputs": [],
   "source": []
  },
  {
   "cell_type": "code",
   "execution_count": null,
   "metadata": {
    "collapsed": true
   },
   "outputs": [],
   "source": []
  },
  {
   "cell_type": "code",
   "execution_count": null,
   "metadata": {
    "collapsed": true
   },
   "outputs": [],
   "source": []
  }
 ],
 "metadata": {
  "kernelspec": {
   "display_name": "Python 3",
   "language": "python",
   "name": "python3"
  },
  "language_info": {
   "codemirror_mode": {
    "name": "ipython",
    "version": 3
   },
   "file_extension": ".py",
   "mimetype": "text/x-python",
   "name": "python",
   "nbconvert_exporter": "python",
   "pygments_lexer": "ipython3",
   "version": "3.6.0"
  }
 },
 "nbformat": 4,
 "nbformat_minor": 2
}
